{
 "cells": [
  {
   "cell_type": "markdown",
   "id": "0d5299b4",
   "metadata": {},
   "source": [
    "<p align = \"center\" draggable=”false” ><img src=\"https://user-images.githubusercontent.com/37101144/161836199-fdb0219d-0361-4988-bf26-48b0fad160a3.png\" \n",
    "     width=\"200px\"\n",
    "     height=\"auto\"/>\n",
    "</p>\n",
    "\n",
    "# Reddit and HuggingFace Starter Kit"
   ]
  },
  {
   "cell_type": "markdown",
   "id": "beea5ed4",
   "metadata": {},
   "source": [
    "## Part I: [Reddit API](https://www.reddit.com/dev/api/)\n",
    "The first part of this excercise is to figure out how to instantiate a Reddit API object using the Python Reddit API Wrapper [PRAW](https://praw.readthedocs.io/en/stable/).  PRAW is a Python library that provides a simple interfaceto interact with the Reddit API.\n",
    "\n",
    "### Your Task\n",
    "You will first need to instantiate a [Reddit instance](https://praw.readthedocs.io/en/stable/code_overview/reddit_instance.html).\n",
    "Hint: you only need to use `client_id`, `client_secret`, and `user_agent`\n",
    "\n",
    "#### Make sure everyone in the group does this part! \n",
    "\n",
    "Follow the guide below on how to get your `client_id` and `client_secret`.\n",
    "\n",
    "#### Follow these steps:\n",
    "1. Pull the `FourthBrain/ML03` repo locally so you can start development.\n",
    "2. Open `reddit_and_huggingface.ipynb` and install the necessary packages for this lesson by running:\n",
    "\n",
    "    ```\n",
    "    cd code_student/Week_2\n",
    "    conda activate {your_virtual_environment_name}\n",
    "    pip install transformers praw torch torchvision torchaudio\n",
    "    ```\n",
    "    \n",
    "3. Obtain your `client_id` and `client_secret`\n",
    "\n",
    "* Make a Reddit account\n",
    "* Follow the steps in this screenshot which are the first steps from this [guide](https://towardsdatascience.com/how-to-use-the-reddit-api-in-python-5e05ddfd1e5c).\n",
    "\n",
    "![instructions to set up reddit api](../../images/reddit_get_access.JPG)\n",
    "\n",
    "* Create a `secrets.py` file and include the following:\n",
    "\n",
    "    ```\n",
    "    REDDIT_API_CLIENT_ID = \"\"\n",
    "    REDDIT_API_CLIENT_SECRET = \"\"\n",
    "    REDDIT_API_USER_AGENT = {can_be_any_string...for ex: \"teslabot\"}\n",
    "    ```\n",
    "    Get it?  [Teslabot :)](https://www.tesla.com/AIhttps://www.tesla.com/AI)\n",
    "    \n",
    "\n",
    "* Put `secrets.py` in `Week_2` so you can easily import it\n",
    "\n",
    "4. Complete the code in the `# YOUR CODE HERE` space below that creates a reddit instance object that allows us to interact with the Reddit API.  Note that the `subreddit` object for the 'r/TSLA' subreddit has already been created for you."
   ]
  },
  {
   "cell_type": "code",
   "execution_count": 2,
   "id": "c9a8084a",
   "metadata": {},
   "outputs": [
    {
     "name": "stdout",
     "output_type": "stream",
     "text": [
      "usage: conda-env [-h] {create,export,list,remove,update,config} ...\n",
      "conda-env: error: argument {create,export,list,remove,update,config}: invalid choice: 'activate' (choose from 'create', 'export', 'list', 'remove', 'update', 'config')\n"
     ]
    }
   ],
   "source": [
    "!conda env activate reddit"
   ]
  },
  {
   "cell_type": "code",
   "execution_count": 3,
   "id": "9502afff",
   "metadata": {},
   "outputs": [
    {
     "name": "stderr",
     "output_type": "stream",
     "text": [
      "/Users/edwardmitchell/opt/anaconda3/envs/reddit/lib/python3.9/site-packages/tqdm/auto.py:22: TqdmWarning: IProgress not found. Please update jupyter and ipywidgets. See https://ipywidgets.readthedocs.io/en/stable/user_install.html\n",
      "  from .autonotebook import tqdm as notebook_tqdm\n"
     ]
    }
   ],
   "source": [
    "import praw\n",
    "from transformers import pipeline\n",
    "import secrets\n",
    "\n",
    "reddit = praw.Reddit(\n",
    "    \n",
    "    client_id=\"FYqUagGp_OipzHKe-l-rqQ\",\n",
    "    client_secret=\"Jc9av2xjuue7zp6_N-rz-I9BbLO1ug\",\n",
    "    user_agent=\"EdwardMitchell\"\n",
    ")\n",
    "# Choose subreddit\n",
    "subreddit = reddit.subreddit('TSLA')"
   ]
  },
  {
   "cell_type": "markdown",
   "id": "3ac532a3",
   "metadata": {},
   "source": [
    "## Part II:  [r/TSLA Subreddit](https://www.reddit.com/r/TSLA/)\n",
    "The second part of this exercise is to figure out how to the following code is parsing comments through use of the r/TSLA `subreddit` instance object.\n",
    "\n",
    "### Your Task\n",
    "1. Work with your group to comment each line of the following code so that you describe what each piece is doing.\n",
    "2. Create one comment at the top of the code that describes what the larger for loop is iterating over.  \n",
    "3. (Optional) How many comments will I get from this?\n",
    "\n",
    "A few resources that might help!\n",
    "* How do I find the top 10 posts of all time from your favorite subreddit(s)? (hint: look at [\"Obtain Submission Instances from a Subreddit\"](https://praw.readthedocs.io/en/stable/getting_started/quick_start.html))\n",
    "* How do I parse comments from the post? (hint: look at [\"Obtain Submission Instances from a Subreddit\"](https://praw.readthedocs.io/en/stable/getting_started/quick_start.html))"
   ]
  },
  {
   "cell_type": "code",
   "execution_count": 4,
   "id": "376e0c75",
   "metadata": {},
   "outputs": [],
   "source": [
    "# MoreComments is an type not defined in \n",
    "from praw.models import MoreComments\n",
    "#Initialize list\n",
    "top_comments = []\n",
    "\n",
    "#submission = thread = original post\n",
    "for submission in subreddit.top(limit=10):\n",
    "    # top_level_comment: up to top 10 replies of type CommentForest\n",
    "    for top_level_comment in submission.comments: \n",
    "        # Skip MoreComments type (doesn't have a body)\n",
    "        if isinstance(top_level_comment, MoreComments):\n",
    "                     continue\n",
    "        # add body to text\n",
    "        top_comments.append(top_level_comment.body)"
   ]
  },
  {
   "cell_type": "code",
   "execution_count": 5,
   "id": "71a99e7c",
   "metadata": {},
   "outputs": [
    {
     "name": "stdout",
     "output_type": "stream",
     "text": [
      "168\n"
     ]
    }
   ],
   "source": [
    "print(len(top_comments))"
   ]
  },
  {
   "cell_type": "code",
   "execution_count": 6,
   "id": "c68af55f",
   "metadata": {},
   "outputs": [
    {
     "name": "stdout",
     "output_type": "stream",
     "text": [
      "['ho lee fuk \\n\\nyou got anymore insider information? 👀👀', \"What will happen if you post that GME it's the new buy target from them? 🤣\", 'When are you all buying $DOGE, and how much will you all buy?', 'Papa Musk?? 😘😘😘', 'I really don’t understand what Musk is trying to do. It seems he is trying to legitimize BTC and create a sustainable ecosystem for it. But I question whether Tesla shareholders are going to be happy with such an unplanned use of invested capital. Musk is not the majority of Tesla, and big shareholders are very very picky about where their portion of $1.5bm goes to!', \"lmk when they start loading up on Doge and I'm in\", '[deleted]', 'When is DOGE flying', 'Are they gonna fire you lol', \"You're a fucking legend\", 'Give this man a raise! (In BTC)', 'Do you have twitter or instagram?', \"Could you point me in the right direction on to how to code one of this bots myself. I'm a developer and have an extensive trade background. I've been interested in trading algos for a while, but have no idea where is the best place to start learning\", 'Elon....come on.....we got ya...right?', 'BEEEEET-CO-NNNNNNNNNNEEEEEEEEEEEEEEEECT', 'Are you legally allowed to share that information though before they announced it?', 'trust the process', 'Let’s see if this investment has any effect on the actual stock. Good or bad.', 'Some of us only read, rarely post.', 'Have you ever talked with Elon? Could say few words about him? Thanks', 'You did - nicely done !!!', 'What will trigger the sell bot? How much % down swing?', 'WOW DUDE YOUR AWSOME !!', 'Which other Crypto do Tesla plan to approve?', 'I followed.', 'I followed you, maybe next time', 'This guy!!', 'When $ETH?', 'This was def just a prediction. Not an insider. He keep Rick rolling people -_____-', 'Good one @TSLAinsider 👍\\n*thefeelsofbeeingright 🤩', 'Sup', 'Elon?', 'You sure did. Great heads up. Your awesome!!!', 'Shiiiiit', 'Or you are actually an insider and freaked out that the post got attention lol. \\n\\nPm me with the next hot tip lol', 'Best advice I can possibly give just keep taking LSD if you are having those types of epiphanies LOL', 'Enjoy getting fired.', 'Lies...why would an R&D person in the company be involved in this? I don’t buy it.', '[removed]', \"Well since TSLA's last split was 5 to 1 at around $2,500, and since Elon said he doesn't want  split any time soon, I don't think it will happen, even though a lot of people want it to happen.\", 'I think you mean 5 for 1', \"I'd like to sell my one tesla share for 10 million. Thanks\", \"Would be great but Elon said he wasn't in a hurry to do that again\", 'I’m holding 34 shares at $418 average. Will I be able to average down once the stock splits?', 'I’m here for the split 😎', 'It would make sense to do a split soon so that more people can buy into it. I hope Elon splits it before the end of the year', 'You are confused!!!!!!', 'I can see a split after Elon sells his 10% as an announcement would drive up the price.', 'Yes Yes Yes', 'Definitely would like.', 'Tbh it’s only a matter of time', 'Thing is he only earns 10% of Tesla so if it’s a majority vote he has no choice but to split', 'Here is a very interesting theory/conspiracy https://twitter.com/robgrav3s/status/1461111661310398469?s=10', 'Send a tweet to papa Musk', 'It’s gonna happen 10000000000000% on December 9th exactly', '[removed]', 'Holding shares, happy with position, and wait for another 5:1 split. Smells like money and taste like chicken.  Let’s see what happens. For me I can buy TSLA car and drive a Honda HRV.  Why show your money, when you can buy more stonks. Upvote for others to read. This is the way and so say we all.', 'Me too. I am all dipped out. 400 shares long on Tesla. Made plenty of money bought and sold. Waiting for another split. Let’s run this to 10,000', '[removed]', '🙄 Literally me and TSLA right before this biiiiig \"correction\"', 'Hehehehe I am long on Tesla. It is better than FAANG except aapl.', \"So funny! Same thing can't buy anymore dips\", 'I feel the pain... I’m embarrassed if people look at my screen and see today’s expiration value 😢', ' Q4 sales at average 50k per vehicle would mean 9B sales or 36B on yearly basis (very optimistic), margin 12% (very high) would mean 4$ per share, real profit is 0,59, get it?', 'FACTS SIR!!!😒😌😔😪', 'One of these days also TSLA will have to show profits in line with its stock prize, that defines the ultimate dip target, we are way too high right now', 'People need to stop talking about a stock split. It’s not productive. With the ability to buy fractional shares from most brokerages, it isn’t needed. \\n\\nRealistically, the share price should be in the $800 range, and should have been coming out of earnings. The run to the $1200s was a gamma squeeze triggered by that Hertz announcement. No technical support for it. Where we are now is not a dip. It’s the unwinding of shares purchased to hedge that’s pushing it down. When we get back to $800s, expected. If we get to $700s, dip and incredible buying opportunity. Sustained growth requires some pullback, support, resistance, and testing both. Elon selling stock is a distraction. He owns ~20% of Tesla. Selling 10% of that is 2%, which gets swallowed up by regular trading volume. Keep buying, be patient, we’ll eventually get back over $1200 with proper support. Might take a few years.', 'TSLA is a promising stock, as long as it keeps on promising.', 'MUSK sells promises (memes) primarily, and products, secondarily.  TSLA sells EVs but what does SpaceX, Boring Co., Neuralink, Skylink, etc sell?  Promises, but not even that, just ideas of uncertain utility and unclear profitability.  He even jumped into crypto with Dogecoin.   One of these ideas or memes may prove profitable, but highly unlikely for the retail investor to win with any one memes of his.  TSLA is an interesting idea, but not practical for long range driving, especially when factoring in the safety issue of evacuating from foci of natural or man made disasters.', '60 shares @ $40.32 cps holding strong!', \"Can't say I'm super OG, but I've been following the company since 2016ish when I was a freshman in high school, and as soon as I got a bank account in 2020 I bought 1 share. I've been adding more since, without selling, and now I'm up to 8.5 shares at an average cost of 583.\", 'I just buy more', '75 Shares baby \\n\\n90% of my portfolio', 'Never sell! OG', 'Still holding 20 shares . I’m kinda poor', 'This stock will be worth 20 fold in 10 years time the way it’s going', 'Holy shit! I went from up +32k to down 3k to back up 20k! Never sold, just kept adding on the way down!', '🖐️not touching my TSLA for the next 4-5 years at least.', \"Jumped in for the first time at $805. I'm a happy camper :)\", 'Nope I wussed out with the economy and Russia. And to top it off I bought a lot near the peak- $1052 and sold it off well under that. \\n\\nFortunately I lost $50 only. I bought/sold more as it made its descent into hell and back. \\n\\nUnfortunately I should have held when it was at below $800. \\n\\nI’ll buy it. But not at $1000.  I simply cannot imagine this going to $2000 with all that’s going outside of Tesla’s control. \\n\\nI’ll look at $900, maybe dip in at $800 and love it at $700.', 'I Really Don’t understand what to write Trying to help.', '55@340. Why would I leave?  I just need to get better at adding more.', \"Holding 415 shares since 450 (presplit)\\nI'm gonna hold for another 5-10 years.\\n\\n\\nIf Tsla eventually overpasses Apple as the most valuable company ill become a Teslionaire!!\", '🙌 I have never sold a share since 2017, and keep dollar cost averaging in.', \"didn't sell shares today\\n\\nauto executed 2 trailing stop loss options with 87% profit. fuck yeah!\", '820 shares and 4 longterm puts sold for about 100k premium (strike between 600 and 900)\\nbought first share in Dec 2018 and only added until then. hope I can retire in 5 years 😆', '10 from 500 days. Bought one more during 800 low last week. Wishing my tax return would come in before giga Austin opens up!', 'I NEVER SOLD MY CHAIRS !!!!!\\n\\nEVEN IF MY SELL LIMIT\\nORDER OF 1,200 hits \\n\\nI’ll be there to catch Tesla at any falling knife event \\n\\nMe and Tesla have the world to\\nSave \\n\\n#AVENGERS ASSMEBLE\\nTESLA COCCK', \"I stayed long.\\n\\nNot because of faith.\\n\\nBecause of Tesla's increasing dominance and profit.\", 'When’s this stock split happening ?', 'Stacked up on Tesla and big oil 2 years ago. Can’t be happier.', '15 \\n\\nDoesn’t matter what the market does \\n\\nThese 15 aren’t going anywhere', 'How high is it projected to go? Just found out I have quite a few shares still from when I bought years ago. Sold a few of them back then and somehow forgot I had others!', 'Maybe we’re all a little crazy…but I’m holding and hoping that it’s a great call today. It will be brutal if there are surprises in Q1 or forecast. Hopefully Shanghai won’t be a reason for continued selling. Investors are in a bear mood over NFLX!', 'I consolidated my losing options to one new option and made some good money on it so far but not enough to cover the losses. :/ still have my stock though.', 'Over valued stock right now. Will definitely buy back when it hits 100-300 bucks.', 'Every Friday.', 'Buy one on first day of the month.', 'Sucks to be poor 😭', 'Me for the past two years', 'Buy the dips, because Musk needs your money to pay his taxes.', 'Tesla is a steal at the current price. Buy the stock and see$1000 by the end of August.', 'I bought back when it was bouncing around $300s pre split. Then it went up to $800 + pre split down back to $300s. I was too scared to buy more but finally did around $490 pre split. When everyone asked if I sold I said I bought more. And here we are... this past couple of weeks have been painful but I do believe in TSLA long term. It’s going to be hard stomaching any more “dips” but I’m trying to stay in perspective. It’s really hard trying to see big picture sometimes. Ugh. Hang on everyone!\\n  \\n\\nAverage cost per share $49 (bought before split)', 'I’m not gunna lie I haven’t been investing for long and have been testing the waters but when I seen TSLA so cheap i bought a full share, I realise this isn’t a lot to some people but it is to me haha, Gunna hold this bad boy indefinitely', 'Buying more is my strategy. \\n\\nI sold mine to lock in profit from 2015 and been waiting for this moment. (I was so worry that I will never get the stocks again lol...now I’m happy.) I keep buying 10 more on each down day starting from $785.', '[deleted]', 'I saw a Tesla go from $173 to $1500. Elon musk is a beast. He’s always fighting off the short sellers and still on top. It’s like all the Rocky movies doesn’t matter how many times you hit him he just keeps coming back until you’re too weak to fight back and then Bam a legend is made. Don’t take my word for it do you’re own  research. If I had a nickel for every time I heard someone say I wish I would’ve bought it when it was low....', 'What do you think make the shorts choose TSLA?\\n\\nYour refusal to see reality is music to their ears, they sell more at your expense. The index players know this but it takes time for them to get out.', 'Title sounds delusional ...', 'There wasn’t really any bad news for Tesla, everything looks great so far. The old boys club is just trying to weed out the retail.', 'Tesla share is at 40% discount right now. Buy it or leave it.', 'Diamond hands 🙌 hold to the fucking moon. I’m gonna smoke a bowl and eat crayons', 'Cathie Woods is prepping a new price target. Should alleviate some FUD', \"$580 and falling today. What's your price target?\", 'Partially agree. It will reach $2000 in 2025. \\n\\nI had around the same 12K in 2017- took some profit in late Jan. Came back again at $530 today. You need some profit taking as well its good for everybody', 'The Great Short of TSLA is not Burry, but MUSK!', 'My 10k became 6k', \"Oh for the love of all that's holy.\\n\\nTSLA is falling for the same reason many other tech and growth stocks are falling. Money is simply being diversified into recovery stocks, because the real economy (remember that?) is recovering. Interest rates may rise, so yields may rise too, and so the smart money is moving into more traditional companies. It's a cycle, it always happens, and if you're investing and don't know this simple stuff, well then good luck with your strategy.\\n\\nNo one is saying Tesla is in trouble or going to fail or not still an incredible company and worth buying, but it's just there are other stocks now worth buying and stock prices are relative to one another.\\n\\nIf you believe and don't need the money, hold. If you were in it for a quick fix, you might get hurt.\", 'That stupidity of Bitcoin buying spooked a lot of investors. Now Musk tied his and every investors ass to BTC. It was a Bad Move to go out buying Criptos and blowing dog whistles at an idiotic asset like Dogecoin. That conveys non sereousness on part of Musk. On Wall Street Perception is Everything. Now we are Bleeding.', 'Interesting, looks like this sub is still bullish!', 'I bot 1 share today u/596', 'Meh come back to fight another day', '😂😂😂 hold it! Be a macho and hold till the end 😂😂😂', \"Got it at @400.00 and see it to $901.00 until now, I won't sale for ever!\", 'Take profit before it turns to Coal', 'Dont splits normally happen in July time frame?', 'I like how it is right now, where the price is very similar to the market cap in billions.', 'I can’t wait for a stock split.', 'That’s not how it works but good luck. Stocks don’t split normally near that close to a previous split. There hasn’t even been a decent correction since the last split. I wouldn’t expect one for years', 'Anyone holding calls for November 26? Are you guys selling it this week due to FOMC or riding it until your expiration date?', 'If it ever splits again there will be some people panic selling. This will be a great opportunity to buy TSLA if the 2nd split happens this year or later', 'What does a split mean? Is it bad for people that have shares?', \"I'm sure they will do it but only because we all know what it will do to the stock.  ;)\", \"Isn't it solely up to Elon?\", \"He said he didn't wanna split. They won't split anytime soon unless tesla magically holds 2k a share value. It'll probably sit between. I'm bullish but what would tesla market cap be at 2000$ a share?\", 'Sorry to those that are about to miss the boat', 'Cathie Wood is a superstar', 'TSLA $2,500+ HODL!', 'These memes get wilder every day', '\"All Hail the Queen!\"', 'Second leg down coming. She better grab a life raft and drop the rod. Chopping wood!!', '**Fell of the chair.. Awesomely put together**', \"I truely think this is probably the last opportunity to buy tesla at a reasonable price.\\nCome 2022 and TESLA is going to fire on all cylinders, model 3 in full speed, cybertruck, 18 wheeler and a possible announcement of commercial electric airplane.\\nTSLA is going to do to cars what Apple did to phones; power of an ecosystem can't be underestimated.\", 'What do you guys think of EV competition from tradition automakers? Can traditional auto makers like GM catch up in terms of EV market share in near future/ ever?', \"\\nRight now, it's actually a great opportunity to buy TSLA at such a huge discount. When it's back over 800, we'll already have locked in a 35% gain! 😎👍\", 'I think I like the stock', 'We need another WSB short squeeze to fry those shorts.', 'TSLA shorts will never learn', \"There are three things that will serve as an outpost for Tesla's stock price... 1: Market strategy (if Tesla still uses FSD to make money from customers) I will choose to sell out Tesla's stock.. 2  : Price strategy (if Tesla can’t offer consumers an irresistible preferential price because it reduces the components by two-thirds of the cost of a gasoline car) I will choose to sell out Tesla’s stock.. 3: Energy strategy: (if  Tesla cannot provide consumers with free charging at super charging stations for 5 years) I will choose to sell out Tesla’s stock\", 'Not selling a single share is like saying I’m never folding Texas hold ‘em maybe you’ll win some but you’d make more money if you folded sometimes and then came back', 'Base in uk, who knows best apps to buy and sell or FOR investors for TSLA.....Thank you guys!', 'It’s going to drop to 400s first. Buy up around there, and continue to buy puts', 'So many bots in here', 'When’s the right time to buy though? Will it drop more before going back up?? What’s peoples expectations', 'yeah it probably bounces a bit on its way to $300 EoY', '[deleted]', 'Hold then.\\nNever sell.', 'I just commented something like this. \\nI’m tapped. Need more money lol. \\nThis dip is so juicy....', 'You have balls of steel my friend! I’m hodling 75 and hoping to buy more next week.', 'This is the way.', 'Keep it up champ..Let that dick swwaaanngg📈', \"Just maybe it's happening now, adjusting value to expected earnings in an ever more competitive market\", 'Get a job, Sir!', 'sorry OP I bought in last week and now it must go down', 'What cost basis though OP?', 'How come we are all out of money?', \"Holing 300 at $870. It fucking hurts and kick myself for throwing that much at ATH's. Thankfully I don't need to liquidate any of it so I can ride it out\", 'I laughed heartily :)\\n\\nI sold some of my shares at loss and bought $590 call options. I hope it is near the bottom. Otherwise, I am screwed too.']\n"
     ]
    }
   ],
   "source": [
    "print(top_comments)"
   ]
  },
  {
   "cell_type": "markdown",
   "id": "ef246c7d",
   "metadata": {},
   "source": [
    "## Part III:  [HuggingFace](https://huggingface.co/docs/transformers/quicktour)\n",
    "The third part of this exercise is to analyze the sentiment of each comment scraped from `r/TSLA` to using a pre-trained HuggingFace model to make the inference. \n",
    "\n",
    "### Your Task\n",
    "1. Implement the [Sentiment Analysis](https://huggingface.co/docs/transformers/quicktour) Model in the `# YOUR CODE HERE` section. \n",
    "2. (Optional) What is the net sentiment of the entire list of comments?"
   ]
  },
  {
   "cell_type": "code",
   "execution_count": 7,
   "id": "78199eda",
   "metadata": {},
   "outputs": [
    {
     "name": "stderr",
     "output_type": "stream",
     "text": [
      "No model was supplied, defaulted to distilbert-base-uncased-finetuned-sst-2-english (https://huggingface.co/distilbert-base-uncased-finetuned-sst-2-english)\n"
     ]
    }
   ],
   "source": [
    "from transformers import pipeline\n",
    "\n",
    "sentiment_model = pipeline(\"sentiment-analysis\")\n",
    "\n"
   ]
  },
  {
   "cell_type": "code",
   "execution_count": 8,
   "id": "13b71660",
   "metadata": {},
   "outputs": [
    {
     "name": "stdout",
     "output_type": "stream",
     "text": [
      "Sentiment test: I followed. === [{'label': 'POSITIVE', 'score': 0.9960852861404419}]\n"
     ]
    }
   ],
   "source": [
    "import random\n",
    "\n",
    "def get_random_comment(conversations):\n",
    "    comment = random.choice(conversations)\n",
    "    return comment\n",
    "\n",
    "# Run sentiment analysis\n",
    "sentiment_query_sentence = get_random_comment(top_comments) # grabs a random comment from the comment and replies list\n",
    "sentiment = sentiment_model(sentiment_query_sentence) # \n",
    "print(f\"Sentiment test: {sentiment_query_sentence} === {sentiment}\")"
   ]
  },
  {
   "cell_type": "code",
   "execution_count": 9,
   "id": "eb323525",
   "metadata": {},
   "outputs": [
    {
     "name": "stdout",
     "output_type": "stream",
     "text": [
      "POSITIVE\n"
     ]
    }
   ],
   "source": [
    "print(sentiment[0]['label'])"
   ]
  },
  {
   "cell_type": "code",
   "execution_count": null,
   "id": "a7ab3afd",
   "metadata": {},
   "outputs": [],
   "source": []
  },
  {
   "cell_type": "code",
   "execution_count": 10,
   "id": "ba940d47",
   "metadata": {},
   "outputs": [],
   "source": [
    "scores = []\n",
    "\n",
    "for comment in top_comments:\n",
    "    if comment.find('doge') == -1:\n",
    "        scores.append( sentiment_model(sentiment_query_sentence) )"
   ]
  },
  {
   "cell_type": "code",
   "execution_count": 11,
   "id": "de9ad0e3",
   "metadata": {},
   "outputs": [],
   "source": [
    "total = 0.0\n",
    "for score in scores:\n",
    "    if score[0]['label'] == 'POSITIVE':\n",
    "        total += score[0]['score']\n",
    "    else:\n",
    "        total -= score[0]['score']"
   ]
  },
  {
   "cell_type": "code",
   "execution_count": 12,
   "id": "b5c77627",
   "metadata": {},
   "outputs": [
    {
     "name": "stdout",
     "output_type": "stream",
     "text": [
      "167.34232807159424\n"
     ]
    }
   ],
   "source": [
    "print(total)"
   ]
  },
  {
   "cell_type": "code",
   "execution_count": null,
   "id": "2773922a",
   "metadata": {},
   "outputs": [],
   "source": []
  }
 ],
 "metadata": {
  "kernelspec": {
   "display_name": "Python 3 (ipykernel)",
   "language": "python",
   "name": "python3"
  },
  "language_info": {
   "codemirror_mode": {
    "name": "ipython",
    "version": 3
   },
   "file_extension": ".py",
   "mimetype": "text/x-python",
   "name": "python",
   "nbconvert_exporter": "python",
   "pygments_lexer": "ipython3",
   "version": "3.9.12"
  }
 },
 "nbformat": 4,
 "nbformat_minor": 5
}
